{
  "nbformat": 4,
  "nbformat_minor": 0,
  "metadata": {
    "colab": {
      "provenance": [],
      "authorship_tag": "ABX9TyMdU+/Sr8UXvv6f2R1R5EsI",
      "include_colab_link": true
    },
    "kernelspec": {
      "name": "python3",
      "display_name": "Python 3"
    },
    "language_info": {
      "name": "python"
    }
  },
  "cells": [
    {
      "cell_type": "markdown",
      "metadata": {
        "id": "view-in-github",
        "colab_type": "text"
      },
      "source": [
        "<a href=\"https://colab.research.google.com/github/prabhmeet21/Plagiarism-Checker/blob/main/Plagiarism_Checker.ipynb\" target=\"_parent\"><img src=\"https://colab.research.google.com/assets/colab-badge.svg\" alt=\"Open In Colab\"/></a>"
      ]
    },
    {
      "cell_type": "code",
      "execution_count": 1,
      "metadata": {
        "id": "s_PswTfDFJIr"
      },
      "outputs": [],
      "source": [
        "#Import necessary modules!\n",
        "import os  # Module for interacting with the operating system\n",
        "from sklearn.feature_extraction.text import TfidfVectorizer  # Module for text vectorization using TF-IDF\n",
        "from sklearn.metrics.pairwise import cosine_similarity  # Module for calculating cosine similarity"
      ]
    },
    {
      "cell_type": "code",
      "source": [
        "# Get a list of all text files in the current directory\n",
        "student_files = [doc for doc in os.listdir() if doc.endswith('.txt')]"
      ],
      "metadata": {
        "id": "vKGcqon6FnbX"
      },
      "execution_count": 2,
      "outputs": []
    },
    {
      "cell_type": "code",
      "source": [
        "# Read the contents of each student's text file\n",
        "student_notes = [open(_file, encoding='utf-8').read() for _file in student_files]"
      ],
      "metadata": {
        "id": "gGA0h_NKF1S6"
      },
      "execution_count": 4,
      "outputs": []
    },
    {
      "cell_type": "code",
      "source": [
        "# Function to vectorize the text using TF-IDF\n",
        "def vectorize(Text):\n",
        "    return TfidfVectorizer().fit_transform(Text).toarray()"
      ],
      "metadata": {
        "id": "9RmwguzKF6RO"
      },
      "execution_count": 5,
      "outputs": []
    },
    {
      "cell_type": "code",
      "source": [
        "# Function to calculate cosine similarity between two documents\n",
        "def similarity(doc1, doc2):\n",
        "    return cosine_similarity([doc1, doc2])"
      ],
      "metadata": {
        "id": "H_5s1ASbGMpq"
      },
      "execution_count": 6,
      "outputs": []
    },
    {
      "cell_type": "code",
      "source": [
        "pip install scikit-learn\n"
      ],
      "metadata": {
        "colab": {
          "base_uri": "https://localhost:8080/"
        },
        "id": "aDS_PQYsIb4Z",
        "outputId": "37573f3b-af87-490c-de62-5a4619fe7dfa"
      },
      "execution_count": 7,
      "outputs": [
        {
          "output_type": "stream",
          "name": "stdout",
          "text": [
            "Requirement already satisfied: scikit-learn in /usr/local/lib/python3.11/dist-packages (1.6.1)\n",
            "Requirement already satisfied: numpy>=1.19.5 in /usr/local/lib/python3.11/dist-packages (from scikit-learn) (1.26.4)\n",
            "Requirement already satisfied: scipy>=1.6.0 in /usr/local/lib/python3.11/dist-packages (from scikit-learn) (1.13.1)\n",
            "Requirement already satisfied: joblib>=1.2.0 in /usr/local/lib/python3.11/dist-packages (from scikit-learn) (1.4.2)\n",
            "Requirement already satisfied: threadpoolctl>=3.1.0 in /usr/local/lib/python3.11/dist-packages (from scikit-learn) (3.5.0)\n"
          ]
        }
      ]
    },
    {
      "cell_type": "code",
      "source": [
        "from sklearn.feature_extraction.text import TfidfVectorizer\n",
        "from sklearn.metrics.pairwise import cosine_similarity\n",
        "\n",
        "# Load the text files\n",
        "with open('success 1.txt', 'r', encoding='utf-8') as file1:\n",
        "    text1 = file1.read()\n",
        "\n",
        "with open('success 2.txt', 'r', encoding='utf-8') as file2:\n",
        "    text2 = file2.read()\n",
        "\n",
        "# Create TF-IDF Vectors\n",
        "vectorizer = TfidfVectorizer()\n",
        "vectors = vectorizer.fit_transform([text1, text2])\n",
        "\n",
        "# Calculate Cosine Similarity\n",
        "similarity_matrix = cosine_similarity(vectors)\n",
        "similarity_percentage = similarity_matrix[0][1] * 100\n",
        "\n",
        "print(f\"Plagiarism Similarity: {similarity_percentage:.2f}%\")\n"
      ],
      "metadata": {
        "colab": {
          "base_uri": "https://localhost:8080/"
        },
        "id": "8cucg1hjIlQm",
        "outputId": "1829e510-c737-41ce-903b-c94ef8e16d31"
      },
      "execution_count": 8,
      "outputs": [
        {
          "output_type": "stream",
          "name": "stdout",
          "text": [
            "Plagiarism Similarity: 44.55%\n"
          ]
        }
      ]
    },
    {
      "cell_type": "code",
      "source": [
        "# Function to check plagiarism among the student notes\n",
        "def check_plagiarism():\n",
        "    global s_vectors\n",
        "    for student_a, text_vector_a in s_vectors:\n",
        "        new_vectors = s_vectors.copy()\n",
        "        current_index = new_vectors.index((student_a, text_vector_a))\n",
        "        del new_vectors[current_index]\n",
        "        for student_b, text_vector_b in new_vectors:\n",
        "            # Calculate cosine similarity between two text vectors\n",
        "            sim_score = similarity(text_vector_a, text_vector_b)[0][1]\n",
        "            # Sort the student file names alphabetically to avoid duplicates\n",
        "            student_pair = sorted((student_a, student_b))\n",
        "            # Create a tuple with student file names and similarity score\n",
        "            score = (student_pair[0], student_pair[1], sim_score)\n",
        "            # Add the tuple to plagiarism_results set\n",
        "            plagiarism_results.add(score)\n",
        "    return plagiarism_results"
      ],
      "metadata": {
        "id": "OwjSa6vnHEbS"
      },
      "execution_count": 9,
      "outputs": []
    },
    {
      "cell_type": "code",
      "source": [
        "from sklearn.feature_extraction.text import TfidfVectorizer\n",
        "from sklearn.metrics.pairwise import cosine_similarity\n",
        "\n",
        "def check_plagiarism():\n",
        "    # Read files\n",
        "    with open(\"success 1.txt\", \"r\", encoding=\"utf-8\") as f1:\n",
        "        text1 = f1.read()\n",
        "\n",
        "    with open(\"success 2.txt\", \"r\", encoding=\"utf-8\") as f2:\n",
        "        text2 = f2.read()\n",
        "\n",
        "    # Compute TF-IDF vectors\n",
        "    vectorizer = TfidfVectorizer()\n",
        "    vectors = vectorizer.fit_transform([text1, text2])\n",
        "\n",
        "    # Compute cosine similarity\n",
        "    similarity_matrix = cosine_similarity(vectors)\n",
        "\n",
        "    # Extract float similarity between file1 and file2\n",
        "    similarity_float = similarity_matrix[0][1]\n",
        "    similarity_percentage = similarity_float * 100\n",
        "\n",
        "    result = {\n",
        "        \"file_1\": \"success 1.txt\",\n",
        "        \"file_2\": \"success 2.txt\",\n",
        "        \"similarity_percentage\": round(similarity_percentage, 2),\n",
        "        \"similarity_float\": round(similarity_float, 4)\n",
        "    }\n",
        "\n",
        "    return [result]\n",
        "\n",
        "# Print the plagiarism results\n",
        "for data in check_plagiarism():\n",
        "    print(\"Similarity data:\\n\", data)\n"
      ],
      "metadata": {
        "colab": {
          "base_uri": "https://localhost:8080/"
        },
        "id": "d9yzTPHrKEt_",
        "outputId": "97f20871-0da9-4a75-8908-3efd0db58374"
      },
      "execution_count": 10,
      "outputs": [
        {
          "output_type": "stream",
          "name": "stdout",
          "text": [
            "Similarity data:\n",
            " {'file_1': 'success 1.txt', 'file_2': 'success 2.txt', 'similarity_percentage': 44.55, 'similarity_float': 0.4455}\n"
          ]
        }
      ]
    }
  ]
}